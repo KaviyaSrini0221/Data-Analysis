{
 "cells": [
  {
   "cell_type": "code",
   "execution_count": 1,
   "id": "34ba1e96",
   "metadata": {},
   "outputs": [],
   "source": [
    "import pandas as pd\n",
    "import numpy as np"
   ]
  },
  {
   "cell_type": "code",
   "execution_count": 2,
   "id": "486c1e2d",
   "metadata": {},
   "outputs": [
    {
     "name": "stdout",
     "output_type": "stream",
     "text": [
      "<class 'pandas.core.frame.DataFrame'>\n",
      "RangeIndex: 237519 entries, 0 to 237518\n",
      "Data columns (total 7 columns):\n",
      " #   Column     Non-Null Count   Dtype \n",
      "---  ------     --------------   ----- \n",
      " 0   State      237519 non-null  object\n",
      " 1   Year       237519 non-null  int64 \n",
      " 2   Type_code  237519 non-null  object\n",
      " 3   Type       237519 non-null  object\n",
      " 4   Gender     237519 non-null  object\n",
      " 5   Age_group  237519 non-null  object\n",
      " 6   Total      237519 non-null  int64 \n",
      "dtypes: int64(2), object(5)\n",
      "memory usage: 12.7+ MB\n"
     ]
    }
   ],
   "source": [
    "# Assuming your dataset is named 'df'\n",
    "df = pd.read_csv(\"Suicides_in_India.csv\")\n",
    "df = df.drop(columns = 'index')\n",
    "df.info()"
   ]
  },
  {
   "cell_type": "code",
   "execution_count": 3,
   "id": "c4561b0f",
   "metadata": {
    "scrolled": true
   },
   "outputs": [
    {
     "name": "stdout",
     "output_type": "stream",
     "text": [
      "                    State  Year             Type_code  \\\n",
      "1398        A & N ISLANDS  2002  Professional_Profile   \n",
      "115170        LAKSHADWEEP  2004  Professional_Profile   \n",
      "66738                 GOA  2002  Professional_Profile   \n",
      "201159             SIKKIM  2006         Means_adopted   \n",
      "168186           NAGALAND  2004                Causes   \n",
      "...                   ...   ...                   ...   \n",
      "176647             SIKKIM  2010  Professional_Profile   \n",
      "142862            MANIPUR  2004         Means_adopted   \n",
      "105764          KARNATAKA  2011         Means_adopted   \n",
      "143370            MANIPUR  2011                Causes   \n",
      "17858   ARUNACHAL PRADESH  2009      Education_Status   \n",
      "\n",
      "                                           Type  Gender Age_group  Total  \n",
      "1398                             Retired Person    Male     45-59      0  \n",
      "115170        Self-employed (Business activity)    Male     30-44      0  \n",
      "66738                            Retired Person    Male      0-14      0  \n",
      "201159          By Other means (please specify)  Female     45-59      0  \n",
      "168186                         Causes Not known  Female     45-59      0  \n",
      "...                                         ...     ...       ...    ...  \n",
      "176647                           Retired Person    Male      0-14      0  \n",
      "142862             By Self Infliction of injury  Female      0-14      0  \n",
      "105764            By Jumping from (Other sites)    Male       60+      1  \n",
      "143370  Bankruptcy or Sudden change in Economic    Male     45-59      0  \n",
      "17858                   Post Graduate and Above  Female    0-100+      0  \n",
      "\n",
      "[3220 rows x 7 columns]\n",
      "                State  Year      Type_code                             Type  \\\n",
      "0       A & N ISLANDS  2001         Causes                           Cancer   \n",
      "118     A & N ISLANDS  2003  Means_adopted       By Jumping from (Building)   \n",
      "236     A & N ISLANDS  2006  Means_adopted                     By Fire-Arms   \n",
      "354     A & N ISLANDS  2003         Causes                     Love Affairs   \n",
      "472     A & N ISLANDS  2006         Causes             Death of Dear Person   \n",
      "...               ...   ...            ...                              ...   \n",
      "236944  UTTAR PRADESH  2006         Causes                  Family Problems   \n",
      "237062  UTTAR PRADESH  2012  Means_adopted  By Other means (please specify)   \n",
      "237180    UTTARAKHAND  2007         Causes                          Divorce   \n",
      "237298    WEST BENGAL  2001         Causes        Fall in Social Reputation   \n",
      "237416    WEST BENGAL  2006  Means_adopted       By touching electric wires   \n",
      "\n",
      "        Gender Age_group  Total  \n",
      "0         Male     15-29      0  \n",
      "118     Female     15-29      0  \n",
      "236       Male     30-44      0  \n",
      "354       Male     30-44      0  \n",
      "472       Male      0-14      0  \n",
      "...        ...       ...    ...  \n",
      "236944    Male     30-44    102  \n",
      "237062  Female       60+     11  \n",
      "237180    Male      0-14      0  \n",
      "237298  Female     15-29      1  \n",
      "237416  Female      0-14      0  \n",
      "\n",
      "[2013 rows x 7 columns]\n"
     ]
    }
   ],
   "source": [
    "sampled_df = df.sample(n=5000, random_state=42)\n",
    "\n",
    "# If you want a systematic sample\n",
    "# Calculate the step size to achieve approximately 2000 entries\n",
    "step = len(df) // 2000\n",
    "systematic_sampled_df = df.iloc[::step]\n",
    "\n",
    "# Filter the sampled DataFrame to include only rows where 'Total' is 0 or 1\n",
    "sampled_df = sampled_df[(sampled_df['Total'] == 0) | (sampled_df['Total'] == 1)]\n",
    "\n",
    "# Display the sampled DataFrame\n",
    "print(sampled_df)\n",
    "print(systematic_sampled_df)"
   ]
  },
  {
   "cell_type": "code",
   "execution_count": 4,
   "id": "ed4ebaec",
   "metadata": {
    "scrolled": true
   },
   "outputs": [
    {
     "data": {
      "text/html": [
       "<div>\n",
       "<style scoped>\n",
       "    .dataframe tbody tr th:only-of-type {\n",
       "        vertical-align: middle;\n",
       "    }\n",
       "\n",
       "    .dataframe tbody tr th {\n",
       "        vertical-align: top;\n",
       "    }\n",
       "\n",
       "    .dataframe thead th {\n",
       "        text-align: right;\n",
       "    }\n",
       "</style>\n",
       "<table border=\"1\" class=\"dataframe\">\n",
       "  <thead>\n",
       "    <tr style=\"text-align: right;\">\n",
       "      <th></th>\n",
       "      <th>State</th>\n",
       "      <th>Year</th>\n",
       "      <th>Type_code</th>\n",
       "      <th>Type</th>\n",
       "      <th>Gender</th>\n",
       "      <th>Age_group</th>\n",
       "      <th>Total</th>\n",
       "    </tr>\n",
       "  </thead>\n",
       "  <tbody>\n",
       "    <tr>\n",
       "      <th>1398</th>\n",
       "      <td>A &amp; N ISLANDS</td>\n",
       "      <td>2002</td>\n",
       "      <td>Professional_Profile</td>\n",
       "      <td>58</td>\n",
       "      <td>1</td>\n",
       "      <td>45-59</td>\n",
       "      <td>0</td>\n",
       "    </tr>\n",
       "    <tr>\n",
       "      <th>115170</th>\n",
       "      <td>LAKSHADWEEP</td>\n",
       "      <td>2004</td>\n",
       "      <td>Professional_Profile</td>\n",
       "      <td>59</td>\n",
       "      <td>1</td>\n",
       "      <td>30-44</td>\n",
       "      <td>0</td>\n",
       "    </tr>\n",
       "    <tr>\n",
       "      <th>66738</th>\n",
       "      <td>GOA</td>\n",
       "      <td>2002</td>\n",
       "      <td>Professional_Profile</td>\n",
       "      <td>58</td>\n",
       "      <td>1</td>\n",
       "      <td>0-14</td>\n",
       "      <td>0</td>\n",
       "    </tr>\n",
       "    <tr>\n",
       "      <th>201159</th>\n",
       "      <td>SIKKIM</td>\n",
       "      <td>2006</td>\n",
       "      <td>Means_adopted</td>\n",
       "      <td>13</td>\n",
       "      <td>0</td>\n",
       "      <td>45-59</td>\n",
       "      <td>0</td>\n",
       "    </tr>\n",
       "    <tr>\n",
       "      <th>168186</th>\n",
       "      <td>NAGALAND</td>\n",
       "      <td>2004</td>\n",
       "      <td>Causes</td>\n",
       "      <td>21</td>\n",
       "      <td>0</td>\n",
       "      <td>45-59</td>\n",
       "      <td>0</td>\n",
       "    </tr>\n",
       "    <tr>\n",
       "      <th>...</th>\n",
       "      <td>...</td>\n",
       "      <td>...</td>\n",
       "      <td>...</td>\n",
       "      <td>...</td>\n",
       "      <td>...</td>\n",
       "      <td>...</td>\n",
       "      <td>...</td>\n",
       "    </tr>\n",
       "    <tr>\n",
       "      <th>176647</th>\n",
       "      <td>SIKKIM</td>\n",
       "      <td>2010</td>\n",
       "      <td>Professional_Profile</td>\n",
       "      <td>58</td>\n",
       "      <td>1</td>\n",
       "      <td>0-14</td>\n",
       "      <td>0</td>\n",
       "    </tr>\n",
       "    <tr>\n",
       "      <th>142862</th>\n",
       "      <td>MANIPUR</td>\n",
       "      <td>2004</td>\n",
       "      <td>Means_adopted</td>\n",
       "      <td>16</td>\n",
       "      <td>0</td>\n",
       "      <td>0-14</td>\n",
       "      <td>0</td>\n",
       "    </tr>\n",
       "    <tr>\n",
       "      <th>105764</th>\n",
       "      <td>KARNATAKA</td>\n",
       "      <td>2011</td>\n",
       "      <td>Means_adopted</td>\n",
       "      <td>9</td>\n",
       "      <td>1</td>\n",
       "      <td>60+</td>\n",
       "      <td>1</td>\n",
       "    </tr>\n",
       "    <tr>\n",
       "      <th>143370</th>\n",
       "      <td>MANIPUR</td>\n",
       "      <td>2011</td>\n",
       "      <td>Causes</td>\n",
       "      <td>0</td>\n",
       "      <td>1</td>\n",
       "      <td>45-59</td>\n",
       "      <td>0</td>\n",
       "    </tr>\n",
       "    <tr>\n",
       "      <th>17858</th>\n",
       "      <td>ARUNACHAL PRADESH</td>\n",
       "      <td>2009</td>\n",
       "      <td>Education_Status</td>\n",
       "      <td>52</td>\n",
       "      <td>0</td>\n",
       "      <td>0-100+</td>\n",
       "      <td>0</td>\n",
       "    </tr>\n",
       "  </tbody>\n",
       "</table>\n",
       "<p>3220 rows × 7 columns</p>\n",
       "</div>"
      ],
      "text/plain": [
       "                    State  Year             Type_code  Type  Gender Age_group  \\\n",
       "1398        A & N ISLANDS  2002  Professional_Profile    58       1     45-59   \n",
       "115170        LAKSHADWEEP  2004  Professional_Profile    59       1     30-44   \n",
       "66738                 GOA  2002  Professional_Profile    58       1      0-14   \n",
       "201159             SIKKIM  2006         Means_adopted    13       0     45-59   \n",
       "168186           NAGALAND  2004                Causes    21       0     45-59   \n",
       "...                   ...   ...                   ...   ...     ...       ...   \n",
       "176647             SIKKIM  2010  Professional_Profile    58       1      0-14   \n",
       "142862            MANIPUR  2004         Means_adopted    16       0      0-14   \n",
       "105764          KARNATAKA  2011         Means_adopted     9       1       60+   \n",
       "143370            MANIPUR  2011                Causes     0       1     45-59   \n",
       "17858   ARUNACHAL PRADESH  2009      Education_Status    52       0    0-100+   \n",
       "\n",
       "        Total  \n",
       "1398        0  \n",
       "115170      0  \n",
       "66738       0  \n",
       "201159      0  \n",
       "168186      0  \n",
       "...       ...  \n",
       "176647      0  \n",
       "142862      0  \n",
       "105764      1  \n",
       "143370      0  \n",
       "17858       0  \n",
       "\n",
       "[3220 rows x 7 columns]"
      ]
     },
     "execution_count": 4,
     "metadata": {},
     "output_type": "execute_result"
    }
   ],
   "source": [
    "#conversion of categorical data to numerical data \n",
    "sampled_df['Gender'] = sampled_df['Gender'].astype('category')\n",
    "sampled_df['Gender'] = sampled_df['Gender'].cat.codes\n",
    "sampled_df['Type'] = sampled_df['Type'].astype('category')\n",
    "sampled_df['Type'] = sampled_df['Type'].cat.codes\n",
    "sampled_df['Type'] = sampled_df['Type'].astype('category')\n",
    "sampled_df['Type'] = sampled_df['Type'].cat.codes\n",
    "sampled_df"
   ]
  },
  {
   "cell_type": "code",
   "execution_count": 5,
   "id": "3be7f78b",
   "metadata": {},
   "outputs": [
    {
     "data": {
      "text/plain": [
       "State        0\n",
       "Year         0\n",
       "Type_code    0\n",
       "Type         0\n",
       "Gender       0\n",
       "Age_group    0\n",
       "Total        0\n",
       "dtype: int64"
      ]
     },
     "execution_count": 5,
     "metadata": {},
     "output_type": "execute_result"
    }
   ],
   "source": [
    "#check if the sampled df has any null values\n",
    "sampled_df.isnull().sum()"
   ]
  },
  {
   "cell_type": "code",
   "execution_count": 6,
   "id": "4ac240cc",
   "metadata": {},
   "outputs": [
    {
     "name": "stdout",
     "output_type": "stream",
     "text": [
      "<class 'pandas.core.frame.DataFrame'>\n",
      "Int64Index: 3220 entries, 1398 to 17858\n",
      "Data columns (total 7 columns):\n",
      " #   Column     Non-Null Count  Dtype \n",
      "---  ------     --------------  ----- \n",
      " 0   State      3220 non-null   object\n",
      " 1   Year       3220 non-null   int64 \n",
      " 2   Type_code  3220 non-null   object\n",
      " 3   Type       3220 non-null   int8  \n",
      " 4   Gender     3220 non-null   int8  \n",
      " 5   Age_group  3220 non-null   object\n",
      " 6   Total      3220 non-null   int64 \n",
      "dtypes: int64(2), int8(2), object(3)\n",
      "memory usage: 157.2+ KB\n"
     ]
    }
   ],
   "source": [
    "sampled_df.info()"
   ]
  },
  {
   "cell_type": "code",
   "execution_count": 7,
   "id": "7cd6a629",
   "metadata": {},
   "outputs": [
    {
     "data": {
      "text/html": [
       "<div>\n",
       "<style scoped>\n",
       "    .dataframe tbody tr th:only-of-type {\n",
       "        vertical-align: middle;\n",
       "    }\n",
       "\n",
       "    .dataframe tbody tr th {\n",
       "        vertical-align: top;\n",
       "    }\n",
       "\n",
       "    .dataframe thead th {\n",
       "        text-align: right;\n",
       "    }\n",
       "</style>\n",
       "<table border=\"1\" class=\"dataframe\">\n",
       "  <thead>\n",
       "    <tr style=\"text-align: right;\">\n",
       "      <th></th>\n",
       "      <th>Type</th>\n",
       "      <th>Gender</th>\n",
       "    </tr>\n",
       "  </thead>\n",
       "  <tbody>\n",
       "    <tr>\n",
       "      <th>1398</th>\n",
       "      <td>58</td>\n",
       "      <td>1</td>\n",
       "    </tr>\n",
       "    <tr>\n",
       "      <th>115170</th>\n",
       "      <td>59</td>\n",
       "      <td>1</td>\n",
       "    </tr>\n",
       "    <tr>\n",
       "      <th>66738</th>\n",
       "      <td>58</td>\n",
       "      <td>1</td>\n",
       "    </tr>\n",
       "    <tr>\n",
       "      <th>201159</th>\n",
       "      <td>13</td>\n",
       "      <td>0</td>\n",
       "    </tr>\n",
       "    <tr>\n",
       "      <th>168186</th>\n",
       "      <td>21</td>\n",
       "      <td>0</td>\n",
       "    </tr>\n",
       "    <tr>\n",
       "      <th>...</th>\n",
       "      <td>...</td>\n",
       "      <td>...</td>\n",
       "    </tr>\n",
       "    <tr>\n",
       "      <th>176647</th>\n",
       "      <td>58</td>\n",
       "      <td>1</td>\n",
       "    </tr>\n",
       "    <tr>\n",
       "      <th>142862</th>\n",
       "      <td>16</td>\n",
       "      <td>0</td>\n",
       "    </tr>\n",
       "    <tr>\n",
       "      <th>105764</th>\n",
       "      <td>9</td>\n",
       "      <td>1</td>\n",
       "    </tr>\n",
       "    <tr>\n",
       "      <th>143370</th>\n",
       "      <td>0</td>\n",
       "      <td>1</td>\n",
       "    </tr>\n",
       "    <tr>\n",
       "      <th>17858</th>\n",
       "      <td>52</td>\n",
       "      <td>0</td>\n",
       "    </tr>\n",
       "  </tbody>\n",
       "</table>\n",
       "<p>3220 rows × 2 columns</p>\n",
       "</div>"
      ],
      "text/plain": [
       "        Type  Gender\n",
       "1398      58       1\n",
       "115170    59       1\n",
       "66738     58       1\n",
       "201159    13       0\n",
       "168186    21       0\n",
       "...      ...     ...\n",
       "176647    58       1\n",
       "142862    16       0\n",
       "105764     9       1\n",
       "143370     0       1\n",
       "17858     52       0\n",
       "\n",
       "[3220 rows x 2 columns]"
      ]
     },
     "execution_count": 7,
     "metadata": {},
     "output_type": "execute_result"
    }
   ],
   "source": [
    "X = sampled_df.drop(columns = ['State','Year','Age_group','Type_code','Total'])\n",
    "X"
   ]
  },
  {
   "cell_type": "code",
   "execution_count": 8,
   "id": "61cf5db0",
   "metadata": {},
   "outputs": [
    {
     "data": {
      "text/plain": [
       "1398      0\n",
       "115170    0\n",
       "66738     0\n",
       "201159    0\n",
       "168186    0\n",
       "         ..\n",
       "176647    0\n",
       "142862    0\n",
       "105764    1\n",
       "143370    0\n",
       "17858     0\n",
       "Name: Total, Length: 3220, dtype: int64"
      ]
     },
     "execution_count": 8,
     "metadata": {},
     "output_type": "execute_result"
    }
   ],
   "source": [
    "y = sampled_df['Total']\n",
    "y"
   ]
  },
  {
   "cell_type": "code",
   "execution_count": 9,
   "id": "e7199b78",
   "metadata": {},
   "outputs": [],
   "source": [
    "from sklearn.model_selection import train_test_split\n",
    "X_train , X_test , y_train, y_test = train_test_split(X, y ,test_size = 0.3, random_state = 21)\n",
    "#30% data for testing, 70% for training that's why test_size = 0.3"
   ]
  },
  {
   "cell_type": "code",
   "execution_count": 10,
   "id": "72e927eb",
   "metadata": {},
   "outputs": [
    {
     "data": {
      "text/html": [
       "<div>\n",
       "<style scoped>\n",
       "    .dataframe tbody tr th:only-of-type {\n",
       "        vertical-align: middle;\n",
       "    }\n",
       "\n",
       "    .dataframe tbody tr th {\n",
       "        vertical-align: top;\n",
       "    }\n",
       "\n",
       "    .dataframe thead th {\n",
       "        text-align: right;\n",
       "    }\n",
       "</style>\n",
       "<table border=\"1\" class=\"dataframe\">\n",
       "  <thead>\n",
       "    <tr style=\"text-align: right;\">\n",
       "      <th></th>\n",
       "      <th>Type</th>\n",
       "      <th>Gender</th>\n",
       "    </tr>\n",
       "  </thead>\n",
       "  <tbody>\n",
       "    <tr>\n",
       "      <th>139679</th>\n",
       "      <td>57</td>\n",
       "      <td>1</td>\n",
       "    </tr>\n",
       "    <tr>\n",
       "      <th>68088</th>\n",
       "      <td>11</td>\n",
       "      <td>0</td>\n",
       "    </tr>\n",
       "    <tr>\n",
       "      <th>184955</th>\n",
       "      <td>16</td>\n",
       "      <td>1</td>\n",
       "    </tr>\n",
       "    <tr>\n",
       "      <th>57177</th>\n",
       "      <td>3</td>\n",
       "      <td>1</td>\n",
       "    </tr>\n",
       "    <tr>\n",
       "      <th>113820</th>\n",
       "      <td>33</td>\n",
       "      <td>1</td>\n",
       "    </tr>\n",
       "    <tr>\n",
       "      <th>...</th>\n",
       "      <td>...</td>\n",
       "      <td>...</td>\n",
       "    </tr>\n",
       "    <tr>\n",
       "      <th>137238</th>\n",
       "      <td>60</td>\n",
       "      <td>1</td>\n",
       "    </tr>\n",
       "    <tr>\n",
       "      <th>236899</th>\n",
       "      <td>11</td>\n",
       "      <td>0</td>\n",
       "    </tr>\n",
       "    <tr>\n",
       "      <th>17299</th>\n",
       "      <td>17</td>\n",
       "      <td>0</td>\n",
       "    </tr>\n",
       "    <tr>\n",
       "      <th>78595</th>\n",
       "      <td>15</td>\n",
       "      <td>1</td>\n",
       "    </tr>\n",
       "    <tr>\n",
       "      <th>52507</th>\n",
       "      <td>5</td>\n",
       "      <td>1</td>\n",
       "    </tr>\n",
       "  </tbody>\n",
       "</table>\n",
       "<p>2254 rows × 2 columns</p>\n",
       "</div>"
      ],
      "text/plain": [
       "        Type  Gender\n",
       "139679    57       1\n",
       "68088     11       0\n",
       "184955    16       1\n",
       "57177      3       1\n",
       "113820    33       1\n",
       "...      ...     ...\n",
       "137238    60       1\n",
       "236899    11       0\n",
       "17299     17       0\n",
       "78595     15       1\n",
       "52507      5       1\n",
       "\n",
       "[2254 rows x 2 columns]"
      ]
     },
     "execution_count": 10,
     "metadata": {},
     "output_type": "execute_result"
    }
   ],
   "source": [
    "X_train"
   ]
  },
  {
   "cell_type": "code",
   "execution_count": 11,
   "id": "cf9a3f20",
   "metadata": {},
   "outputs": [
    {
     "data": {
      "text/html": [
       "<div>\n",
       "<style scoped>\n",
       "    .dataframe tbody tr th:only-of-type {\n",
       "        vertical-align: middle;\n",
       "    }\n",
       "\n",
       "    .dataframe tbody tr th {\n",
       "        vertical-align: top;\n",
       "    }\n",
       "\n",
       "    .dataframe thead th {\n",
       "        text-align: right;\n",
       "    }\n",
       "</style>\n",
       "<table border=\"1\" class=\"dataframe\">\n",
       "  <thead>\n",
       "    <tr style=\"text-align: right;\">\n",
       "      <th></th>\n",
       "      <th>Type</th>\n",
       "      <th>Gender</th>\n",
       "    </tr>\n",
       "  </thead>\n",
       "  <tbody>\n",
       "    <tr>\n",
       "      <th>652</th>\n",
       "      <td>10</td>\n",
       "      <td>1</td>\n",
       "    </tr>\n",
       "    <tr>\n",
       "      <th>56069</th>\n",
       "      <td>0</td>\n",
       "      <td>0</td>\n",
       "    </tr>\n",
       "    <tr>\n",
       "      <th>120707</th>\n",
       "      <td>58</td>\n",
       "      <td>1</td>\n",
       "    </tr>\n",
       "    <tr>\n",
       "      <th>102814</th>\n",
       "      <td>24</td>\n",
       "      <td>1</td>\n",
       "    </tr>\n",
       "    <tr>\n",
       "      <th>156773</th>\n",
       "      <td>46</td>\n",
       "      <td>0</td>\n",
       "    </tr>\n",
       "    <tr>\n",
       "      <th>...</th>\n",
       "      <td>...</td>\n",
       "      <td>...</td>\n",
       "    </tr>\n",
       "    <tr>\n",
       "      <th>225079</th>\n",
       "      <td>8</td>\n",
       "      <td>0</td>\n",
       "    </tr>\n",
       "    <tr>\n",
       "      <th>105943</th>\n",
       "      <td>19</td>\n",
       "      <td>1</td>\n",
       "    </tr>\n",
       "    <tr>\n",
       "      <th>94959</th>\n",
       "      <td>15</td>\n",
       "      <td>1</td>\n",
       "    </tr>\n",
       "    <tr>\n",
       "      <th>153796</th>\n",
       "      <td>19</td>\n",
       "      <td>0</td>\n",
       "    </tr>\n",
       "    <tr>\n",
       "      <th>165343</th>\n",
       "      <td>50</td>\n",
       "      <td>0</td>\n",
       "    </tr>\n",
       "  </tbody>\n",
       "</table>\n",
       "<p>966 rows × 2 columns</p>\n",
       "</div>"
      ],
      "text/plain": [
       "        Type  Gender\n",
       "652       10       1\n",
       "56069      0       0\n",
       "120707    58       1\n",
       "102814    24       1\n",
       "156773    46       0\n",
       "...      ...     ...\n",
       "225079     8       0\n",
       "105943    19       1\n",
       "94959     15       1\n",
       "153796    19       0\n",
       "165343    50       0\n",
       "\n",
       "[966 rows x 2 columns]"
      ]
     },
     "execution_count": 11,
     "metadata": {},
     "output_type": "execute_result"
    }
   ],
   "source": [
    "X_test"
   ]
  },
  {
   "cell_type": "code",
   "execution_count": 12,
   "id": "a766967c",
   "metadata": {},
   "outputs": [],
   "source": [
    "from sklearn.preprocessing import StandardScaler"
   ]
  },
  {
   "cell_type": "code",
   "execution_count": 13,
   "id": "3bd49600",
   "metadata": {},
   "outputs": [],
   "source": [
    "scaler = StandardScaler()"
   ]
  },
  {
   "cell_type": "code",
   "execution_count": 14,
   "id": "db41082e",
   "metadata": {},
   "outputs": [],
   "source": [
    "X_train_scaled = scaler.fit_transform(X_train)"
   ]
  },
  {
   "cell_type": "code",
   "execution_count": 15,
   "id": "4041192c",
   "metadata": {},
   "outputs": [],
   "source": [
    "#this is done so the train data doesn't know about the SD and mean values(z = (x - u) / s)\n",
    "X_test_scaled = scaler.transform(X_test)"
   ]
  },
  {
   "cell_type": "code",
   "execution_count": 16,
   "id": "eee24ac0",
   "metadata": {},
   "outputs": [
    {
     "data": {
      "text/plain": [
       "array([[ 1.22176374,  1.05943879],\n",
       "       [-1.11895489, -0.94389597],\n",
       "       [-0.86452895,  1.05943879],\n",
       "       ...,\n",
       "       [-0.81364376, -0.94389597],\n",
       "       [-0.91541414,  1.05943879],\n",
       "       [-1.42426601,  1.05943879]])"
      ]
     },
     "execution_count": 16,
     "metadata": {},
     "output_type": "execute_result"
    }
   ],
   "source": [
    "X_train_scaled"
   ]
  },
  {
   "cell_type": "code",
   "execution_count": 17,
   "id": "602a90c5",
   "metadata": {},
   "outputs": [
    {
     "data": {
      "text/plain": [
       "array([[-1.16984008,  1.05943879],\n",
       "       [-1.67869195, -0.94389597],\n",
       "       [ 1.27264892,  1.05943879],\n",
       "       ...,\n",
       "       [-0.91541414,  1.05943879],\n",
       "       [-0.71187339, -0.94389597],\n",
       "       [ 0.86556742, -0.94389597]])"
      ]
     },
     "execution_count": 17,
     "metadata": {},
     "output_type": "execute_result"
    }
   ],
   "source": [
    "X_test_scaled"
   ]
  },
  {
   "cell_type": "code",
   "execution_count": 18,
   "id": "df63a0f6",
   "metadata": {},
   "outputs": [],
   "source": [
    "from sklearn.linear_model import LogisticRegression"
   ]
  },
  {
   "cell_type": "code",
   "execution_count": 19,
   "id": "1ce7af38",
   "metadata": {},
   "outputs": [],
   "source": [
    "log_reg = LogisticRegression(random_state = 0).fit(X_train_scaled,y_train)"
   ]
  },
  {
   "cell_type": "code",
   "execution_count": 20,
   "id": "0203771b",
   "metadata": {},
   "outputs": [
    {
     "data": {
      "text/plain": [
       "array([0, 0, 0, ..., 0, 0, 0], dtype=int64)"
      ]
     },
     "execution_count": 20,
     "metadata": {},
     "output_type": "execute_result"
    }
   ],
   "source": [
    "log_reg.predict(X_train_scaled)"
   ]
  },
  {
   "cell_type": "code",
   "execution_count": 21,
   "id": "880e30f2",
   "metadata": {},
   "outputs": [
    {
     "data": {
      "text/plain": [
       "0.8957409050576752"
      ]
     },
     "execution_count": 21,
     "metadata": {},
     "output_type": "execute_result"
    }
   ],
   "source": [
    "#percentage rate of predicting the train values correctly \n",
    "log_reg.score(X_train_scaled,y_train)"
   ]
  },
  {
   "cell_type": "code",
   "execution_count": 22,
   "id": "917dfe66",
   "metadata": {},
   "outputs": [
    {
     "data": {
      "text/plain": [
       "0.8788819875776398"
      ]
     },
     "execution_count": 22,
     "metadata": {},
     "output_type": "execute_result"
    }
   ],
   "source": [
    "#percentage rate of predicting the test values correctly \n",
    "log_reg.score(X_test_scaled,y_test)"
   ]
  },
  {
   "cell_type": "code",
   "execution_count": 23,
   "id": "2dd25c33",
   "metadata": {},
   "outputs": [],
   "source": [
    "#done to check if the model can be improved or not\n",
    "log_reg1 = LogisticRegression(random_state = 0,\n",
    "                             C = 1,\n",
    "                             fit_intercept = True,\n",
    "                             ).fit(X_train_scaled,y_train)"
   ]
  },
  {
   "cell_type": "code",
   "execution_count": 24,
   "id": "d7c8f641",
   "metadata": {},
   "outputs": [
    {
     "data": {
      "text/plain": [
       "0.8957409050576752"
      ]
     },
     "execution_count": 24,
     "metadata": {},
     "output_type": "execute_result"
    }
   ],
   "source": [
    "log_reg1.score(X_train_scaled,y_train)"
   ]
  },
  {
   "cell_type": "code",
   "execution_count": 25,
   "id": "56bd1840",
   "metadata": {},
   "outputs": [
    {
     "data": {
      "text/plain": [
       "0.8957409050576752"
      ]
     },
     "execution_count": 25,
     "metadata": {},
     "output_type": "execute_result"
    }
   ],
   "source": [
    "log_reg1.score(X_train_scaled,y_train)"
   ]
  },
  {
   "cell_type": "code",
   "execution_count": null,
   "id": "9aeaeb6b",
   "metadata": {},
   "outputs": [],
   "source": []
  }
 ],
 "metadata": {
  "kernelspec": {
   "display_name": "Python 3 (ipykernel)",
   "language": "python",
   "name": "python3"
  },
  "language_info": {
   "codemirror_mode": {
    "name": "ipython",
    "version": 3
   },
   "file_extension": ".py",
   "mimetype": "text/x-python",
   "name": "python",
   "nbconvert_exporter": "python",
   "pygments_lexer": "ipython3",
   "version": "3.11.4"
  }
 },
 "nbformat": 4,
 "nbformat_minor": 5
}
