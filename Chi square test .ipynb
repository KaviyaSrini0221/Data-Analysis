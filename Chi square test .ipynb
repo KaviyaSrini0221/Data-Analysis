{
 "cells": [
  {
   "cell_type": "code",
   "execution_count": 1,
   "id": "e9fb86e9",
   "metadata": {},
   "outputs": [],
   "source": [
    "# Chi-Square Test-\n",
    "# The test is applied when you have two categorical variable from a single\n",
    "# population.it is used to determine whether there is a significant association\n",
    "# between two variables"
   ]
  },
  {
   "cell_type": "code",
   "execution_count": 2,
   "id": "242d0704",
   "metadata": {},
   "outputs": [],
   "source": [
    "import scipy.stats as stats"
   ]
  },
  {
   "cell_type": "code",
   "execution_count": 3,
   "id": "246cb50a",
   "metadata": {},
   "outputs": [],
   "source": [
    "import seaborn as sns\n",
    "import pandas as pd\n",
    "import numpy as np"
   ]
  },
  {
   "cell_type": "code",
   "execution_count": 4,
   "id": "dcc56602",
   "metadata": {},
   "outputs": [
    {
     "data": {
      "text/html": [
       "<div>\n",
       "<style scoped>\n",
       "    .dataframe tbody tr th:only-of-type {\n",
       "        vertical-align: middle;\n",
       "    }\n",
       "\n",
       "    .dataframe tbody tr th {\n",
       "        vertical-align: top;\n",
       "    }\n",
       "\n",
       "    .dataframe thead th {\n",
       "        text-align: right;\n",
       "    }\n",
       "</style>\n",
       "<table border=\"1\" class=\"dataframe\">\n",
       "  <thead>\n",
       "    <tr style=\"text-align: right;\">\n",
       "      <th></th>\n",
       "      <th>index</th>\n",
       "      <th>State</th>\n",
       "      <th>Year</th>\n",
       "      <th>Type_code</th>\n",
       "      <th>Type</th>\n",
       "      <th>Gender</th>\n",
       "      <th>Age_group</th>\n",
       "      <th>Total</th>\n",
       "    </tr>\n",
       "  </thead>\n",
       "  <tbody>\n",
       "    <tr>\n",
       "      <th>0</th>\n",
       "      <td>0</td>\n",
       "      <td>A &amp; N ISLANDS</td>\n",
       "      <td>2001</td>\n",
       "      <td>Causes</td>\n",
       "      <td>Cancer</td>\n",
       "      <td>Male</td>\n",
       "      <td>15-29</td>\n",
       "      <td>0</td>\n",
       "    </tr>\n",
       "    <tr>\n",
       "      <th>1</th>\n",
       "      <td>1</td>\n",
       "      <td>A &amp; N ISLANDS</td>\n",
       "      <td>2001</td>\n",
       "      <td>Causes</td>\n",
       "      <td>Divorce</td>\n",
       "      <td>Male</td>\n",
       "      <td>60+</td>\n",
       "      <td>0</td>\n",
       "    </tr>\n",
       "    <tr>\n",
       "      <th>2</th>\n",
       "      <td>2</td>\n",
       "      <td>A &amp; N ISLANDS</td>\n",
       "      <td>2001</td>\n",
       "      <td>Causes</td>\n",
       "      <td>Dowry Dispute</td>\n",
       "      <td>Female</td>\n",
       "      <td>60+</td>\n",
       "      <td>0</td>\n",
       "    </tr>\n",
       "    <tr>\n",
       "      <th>3</th>\n",
       "      <td>3</td>\n",
       "      <td>A &amp; N ISLANDS</td>\n",
       "      <td>2001</td>\n",
       "      <td>Causes</td>\n",
       "      <td>Ideological Causes/Hero Worshipping</td>\n",
       "      <td>Female</td>\n",
       "      <td>60+</td>\n",
       "      <td>0</td>\n",
       "    </tr>\n",
       "    <tr>\n",
       "      <th>4</th>\n",
       "      <td>4</td>\n",
       "      <td>A &amp; N ISLANDS</td>\n",
       "      <td>2001</td>\n",
       "      <td>Causes</td>\n",
       "      <td>Illness (Aids/STD)</td>\n",
       "      <td>Female</td>\n",
       "      <td>0-14</td>\n",
       "      <td>0</td>\n",
       "    </tr>\n",
       "  </tbody>\n",
       "</table>\n",
       "</div>"
      ],
      "text/plain": [
       "   index          State  Year Type_code                                 Type  \\\n",
       "0      0  A & N ISLANDS  2001    Causes                               Cancer   \n",
       "1      1  A & N ISLANDS  2001    Causes                              Divorce   \n",
       "2      2  A & N ISLANDS  2001    Causes                        Dowry Dispute   \n",
       "3      3  A & N ISLANDS  2001    Causes  Ideological Causes/Hero Worshipping   \n",
       "4      4  A & N ISLANDS  2001    Causes                   Illness (Aids/STD)   \n",
       "\n",
       "   Gender Age_group  Total  \n",
       "0    Male     15-29      0  \n",
       "1    Male       60+      0  \n",
       "2  Female       60+      0  \n",
       "3  Female       60+      0  \n",
       "4  Female      0-14      0  "
      ]
     },
     "execution_count": 4,
     "metadata": {},
     "output_type": "execute_result"
    }
   ],
   "source": [
    "df = pd.read_csv(\"Suicides_in_India.csv\")\n",
    "df.head()"
   ]
  },
  {
   "cell_type": "code",
   "execution_count": 5,
   "id": "54bc1938",
   "metadata": {},
   "outputs": [
    {
     "name": "stdout",
     "output_type": "stream",
     "text": [
      "Gender                                          Female  Male\n",
      "Type                                                        \n",
      "Bankruptcy or Sudden change in Economic           1925  1925\n",
      "Bankruptcy or Sudden change in Economic Status     175   175\n",
      "By Consuming Insecticides                         2100  2100\n",
      "By Consuming Other Poison                         2100  2100\n",
      "By Drowning                                       2100  2100\n",
      "...                                                ...   ...\n",
      "Student                                           2100  2100\n",
      "Suspected/Illicit Relation                        2100  2100\n",
      "Unemployed                                        2100  2100\n",
      "Unemployment                                      2100  2100\n",
      "Widowed/Widower                                    456   456\n",
      "\n",
      "[69 rows x 2 columns]\n"
     ]
    }
   ],
   "source": [
    "#crosstab is used to make the marix/table in 2x2 matrix array\n",
    "dp_table = pd.crosstab(df['Type'],df['Gender'])\n",
    "print(dp_table)"
   ]
  },
  {
   "cell_type": "code",
   "execution_count": 6,
   "id": "83e19f37",
   "metadata": {
    "scrolled": true
   },
   "outputs": [
    {
     "name": "stdout",
     "output_type": "stream",
     "text": [
      "Observed Values :-\n",
      " [[1925 1925]\n",
      " [ 175  175]\n",
      " [2100 2100]\n",
      " [2100 2100]\n",
      " [2100 2100]\n",
      " [2100 2100]\n",
      " [2100 2100]\n",
      " [2100 2100]\n",
      " [2100 2100]\n",
      " [2100 2100]\n",
      " [2100 2100]\n",
      " [2100 2100]\n",
      " [ 175  175]\n",
      " [1925 1925]\n",
      " [2100 2100]\n",
      " [2100 2100]\n",
      " [2100 2100]\n",
      " [2100 2100]\n",
      " [2100 2100]\n",
      " [2100 2100]\n",
      " [2100 2100]\n",
      " [2100 2100]\n",
      " [2100 2100]\n",
      " [ 456  456]\n",
      " [2100 2100]\n",
      " [ 456  456]\n",
      " [2100 2100]\n",
      " [2100 2100]\n",
      " [2100 2100]\n",
      " [2100 2100]\n",
      " [2100 2100]\n",
      " [2100 2100]\n",
      " [ 456  456]\n",
      " [2100 2100]\n",
      " [ 456  456]\n",
      " [2100 2100]\n",
      " [2100 2100]\n",
      " [2100 2100]\n",
      " [2100 2100]\n",
      " [2100 2100]\n",
      " [ 456  456]\n",
      " [ 456  456]\n",
      " [ 456  456]\n",
      " [ 456  456]\n",
      " [ 456  456]\n",
      " [ 175  175]\n",
      " [1925 1925]\n",
      " [2100 2100]\n",
      " [2100 2100]\n",
      " [3512 3751]\n",
      " [2100 2100]\n",
      " [2100 2100]\n",
      " [ 456  456]\n",
      " [2100 2100]\n",
      " [ 456  456]\n",
      " [2100 2100]\n",
      " [2100 2100]\n",
      " [2100 2100]\n",
      " [2100 2100]\n",
      " [2100 2100]\n",
      " [2100 2100]\n",
      " [ 456  456]\n",
      " [2100 2100]\n",
      " [2100 2100]\n",
      " [2100 2100]\n",
      " [2100 2100]\n",
      " [2100 2100]\n",
      " [2100 2100]\n",
      " [ 456  456]]\n"
     ]
    }
   ],
   "source": [
    "#observed values\n",
    "#to show the array of values\n",
    "# dp_table.values\n",
    "Observed_values = dp_table.values\n",
    "print(\"Observed Values :-\\n\",Observed_values)"
   ]
  },
  {
   "cell_type": "code",
   "execution_count": 7,
   "id": "a7686805",
   "metadata": {},
   "outputs": [],
   "source": [
    "#computes chi square statistics and p value of the data\n",
    "val=stats.chi2_contingency(dp_table)"
   ]
  },
  {
   "cell_type": "code",
   "execution_count": 8,
   "id": "7396ab23",
   "metadata": {},
   "outputs": [
    {
     "data": {
      "text/plain": [
       "Chi2ContingencyResult(statistic=7.624173963122206, pvalue=1.0, dof=68, expected_freq=array([[1923.06299707, 1926.93700293],\n",
       "       [ 174.82390882,  175.17609118],\n",
       "       [2097.88690589, 2102.11309411],\n",
       "       [2097.88690589, 2102.11309411],\n",
       "       [2097.88690589, 2102.11309411],\n",
       "       [2097.88690589, 2102.11309411],\n",
       "       [2097.88690589, 2102.11309411],\n",
       "       [2097.88690589, 2102.11309411],\n",
       "       [2097.88690589, 2102.11309411],\n",
       "       [2097.88690589, 2102.11309411],\n",
       "       [2097.88690589, 2102.11309411],\n",
       "       [2097.88690589, 2102.11309411],\n",
       "       [ 174.82390882,  175.17609118],\n",
       "       [1923.06299707, 1926.93700293],\n",
       "       [2097.88690589, 2102.11309411],\n",
       "       [2097.88690589, 2102.11309411],\n",
       "       [2097.88690589, 2102.11309411],\n",
       "       [2097.88690589, 2102.11309411],\n",
       "       [2097.88690589, 2102.11309411],\n",
       "       [2097.88690589, 2102.11309411],\n",
       "       [2097.88690589, 2102.11309411],\n",
       "       [2097.88690589, 2102.11309411],\n",
       "       [2097.88690589, 2102.11309411],\n",
       "       [ 455.54115671,  456.45884329],\n",
       "       [2097.88690589, 2102.11309411],\n",
       "       [ 455.54115671,  456.45884329],\n",
       "       [2097.88690589, 2102.11309411],\n",
       "       [2097.88690589, 2102.11309411],\n",
       "       [2097.88690589, 2102.11309411],\n",
       "       [2097.88690589, 2102.11309411],\n",
       "       [2097.88690589, 2102.11309411],\n",
       "       [2097.88690589, 2102.11309411],\n",
       "       [ 455.54115671,  456.45884329],\n",
       "       [2097.88690589, 2102.11309411],\n",
       "       [ 455.54115671,  456.45884329],\n",
       "       [2097.88690589, 2102.11309411],\n",
       "       [2097.88690589, 2102.11309411],\n",
       "       [2097.88690589, 2102.11309411],\n",
       "       [2097.88690589, 2102.11309411],\n",
       "       [2097.88690589, 2102.11309411],\n",
       "       [ 455.54115671,  456.45884329],\n",
       "       [ 455.54115671,  456.45884329],\n",
       "       [ 455.54115671,  456.45884329],\n",
       "       [ 455.54115671,  456.45884329],\n",
       "       [ 455.54115671,  456.45884329],\n",
       "       [ 174.82390882,  175.17609118],\n",
       "       [1923.06299707, 1926.93700293],\n",
       "       [2097.88690589, 2102.11309411],\n",
       "       [2097.88690589, 2102.11309411],\n",
       "       [3627.84585654, 3635.15414346],\n",
       "       [2097.88690589, 2102.11309411],\n",
       "       [2097.88690589, 2102.11309411],\n",
       "       [ 455.54115671,  456.45884329],\n",
       "       [2097.88690589, 2102.11309411],\n",
       "       [ 455.54115671,  456.45884329],\n",
       "       [2097.88690589, 2102.11309411],\n",
       "       [2097.88690589, 2102.11309411],\n",
       "       [2097.88690589, 2102.11309411],\n",
       "       [2097.88690589, 2102.11309411],\n",
       "       [2097.88690589, 2102.11309411],\n",
       "       [2097.88690589, 2102.11309411],\n",
       "       [ 455.54115671,  456.45884329],\n",
       "       [2097.88690589, 2102.11309411],\n",
       "       [2097.88690589, 2102.11309411],\n",
       "       [2097.88690589, 2102.11309411],\n",
       "       [2097.88690589, 2102.11309411],\n",
       "       [2097.88690589, 2102.11309411],\n",
       "       [2097.88690589, 2102.11309411],\n",
       "       [ 455.54115671,  456.45884329]]))"
      ]
     },
     "execution_count": 8,
     "metadata": {},
     "output_type": "execute_result"
    }
   ],
   "source": [
    "#here the expected_frq should be the expected value of each array row\n",
    "val"
   ]
  },
  {
   "cell_type": "code",
   "execution_count": 9,
   "id": "15402c0b",
   "metadata": {},
   "outputs": [],
   "source": [
    "Expected_values = val[3]"
   ]
  },
  {
   "cell_type": "code",
   "execution_count": 10,
   "id": "b7160a25",
   "metadata": {},
   "outputs": [
    {
     "name": "stdout",
     "output_type": "stream",
     "text": [
      "Degree of Freedom:- 68\n"
     ]
    }
   ],
   "source": [
    "no_of_rows=len(dp_table.iloc[0:69,0])\n",
    "no_of_columns=len(dp_table.iloc[0,0:2])\n",
    "ddof=(no_of_rows-1)*(no_of_columns-1)\n",
    "print(\"Degree of Freedom:-\",ddof)\n",
    "alpha = 0.05"
   ]
  },
  {
   "cell_type": "code",
   "execution_count": 11,
   "id": "66b2fb2a",
   "metadata": {},
   "outputs": [],
   "source": [
    "from scipy.stats import chi2\n",
    "chi_square=sum([(o-e)**2./e for o,e in zip(Observed_values,Expected_values)])\n",
    "chi_square_statistic = sum(chi_square)\n",
    "\n",
    "# Degrees of freedom for a Chi-square test of independence\n",
    "# For a 2x69 contingency table, degrees of freedom = (2 - 1) * (69 - 1) = 68\n",
    "degrees_of_freedom = 68\n",
    "\n",
    "# Calculate the p-value using the Chi-square distribution\n",
    "p_value = 1 - chi2.cdf(chi_square_statistic, degrees_of_freedom)"
   ]
  },
  {
   "cell_type": "code",
   "execution_count": 12,
   "id": "c8f28e9a",
   "metadata": {},
   "outputs": [
    {
     "name": "stdout",
     "output_type": "stream",
     "text": [
      "chi-square statistic:- 7.624173963122204\n"
     ]
    }
   ],
   "source": [
    "print(\"chi-square statistic:-\",chi_square_statistic)"
   ]
  },
  {
   "cell_type": "code",
   "execution_count": 13,
   "id": "71b16b57",
   "metadata": {},
   "outputs": [
    {
     "name": "stdout",
     "output_type": "stream",
     "text": [
      "critical_value: 88.25016442187412\n"
     ]
    }
   ],
   "source": [
    "critical_value=chi2.ppf(q=1-alpha,df=ddof)\n",
    "print('critical_value:',critical_value)"
   ]
  },
  {
   "cell_type": "code",
   "execution_count": 14,
   "id": "d8a6c8fd",
   "metadata": {},
   "outputs": [
    {
     "name": "stdout",
     "output_type": "stream",
     "text": [
      "p-value: 1.0\n",
      "Significance level:  0.05\n",
      "Degree of Freedom:  68\n",
      "p-value: 1.0\n"
     ]
    }
   ],
   "source": [
    "#p-value\n",
    "p_value=1-chi2.cdf(x=chi_square_statistic,df=ddof)\n",
    "print('p-value:',p_value)\n",
    "print('Significance level: ',alpha)\n",
    "print('Degree of Freedom: ',ddof)\n",
    "print('p-value:',p_value)"
   ]
  },
  {
   "cell_type": "code",
   "execution_count": 15,
   "id": "84c1726d",
   "metadata": {},
   "outputs": [],
   "source": [
    "#ALTERNATE METHOD TO FIND THE ABOVE VALUES:\n",
    "# Calculate Chi-square statistic\n",
    "# chi_square_statistic = np.sum(((Observed_values - Expected_values) ** 2) / Expected_values)\n",
    "\n",
    "# # Degrees of freedom\n",
    "# degrees_of_freedom = (Observed_values.shape[0] - 1) * (Observed_values.shape[1] - 1)\n",
    "\n",
    "# # Calculate p-value\n",
    "# p_value = 1 - chi2.cdf(x=chi_square_statistic, df=degrees_of_freedom)\n",
    "\n",
    "# # Significance level\n",
    "# alpha = 0.05\n",
    "\n",
    "# # Print results\n",
    "# print('Chi-square statistic:', chi_square_statistic)\n",
    "# print('Degrees of freedom:', degrees_of_freedom)\n",
    "# print('p-value:', p_value)\n",
    "# print('Significance level:', alpha)"
   ]
  },
  {
   "cell_type": "code",
   "execution_count": 16,
   "id": "a34bb41f",
   "metadata": {},
   "outputs": [
    {
     "name": "stdout",
     "output_type": "stream",
     "text": [
      "Retain H0,There is no relationship between 2 categorical variables\n",
      "Retain H0,There is no relationship between 2 categorical variables\n"
     ]
    }
   ],
   "source": [
    "if chi_square_statistic>=critical_value:\n",
    "    print(\"Reject H0,There is a relationship between 2 categorical variables\")\n",
    "else:\n",
    "    print(\"Retain H0,There is no relationship between 2 categorical variables\")\n",
    "\n",
    "if p_value<=alpha:\n",
    "    print(\"Reject H0,There is a relationship between 2 categorical variables\")\n",
    "else:\n",
    "    print(\"Retain H0,There is no relationship between 2 categorical variables\")"
   ]
  },
  {
   "cell_type": "code",
   "execution_count": 17,
   "id": "aee8388b",
   "metadata": {},
   "outputs": [],
   "source": [
    "# Based on the provided observed and expected values, as well as the Chi-square\n",
    "# test results, it appears that the p-value is very high (close to 1.0). A \n",
    "# p-value close to 1.0 indicates that there is no evidence to reject the \n",
    "# null hypothesis. Therefore, we retain the null hypothesis, which states \n",
    "# that there is no relationship between the two categorical variables.\n",
    "\n",
    "# In conclusion, based on the high p-value, we retain the null hypothesis,\n",
    "# suggesting that there is no significant relationship between the two \n",
    "# categorical variables."
   ]
  },
  {
   "cell_type": "code",
   "execution_count": null,
   "id": "e8a7c7ff",
   "metadata": {},
   "outputs": [],
   "source": []
  }
 ],
 "metadata": {
  "kernelspec": {
   "display_name": "Python 3 (ipykernel)",
   "language": "python",
   "name": "python3"
  },
  "language_info": {
   "codemirror_mode": {
    "name": "ipython",
    "version": 3
   },
   "file_extension": ".py",
   "mimetype": "text/x-python",
   "name": "python",
   "nbconvert_exporter": "python",
   "pygments_lexer": "ipython3",
   "version": "3.11.4"
  }
 },
 "nbformat": 4,
 "nbformat_minor": 5
}
